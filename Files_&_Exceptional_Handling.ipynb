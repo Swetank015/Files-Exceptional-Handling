{
  "nbformat": 4,
  "nbformat_minor": 0,
  "metadata": {
    "colab": {
      "provenance": []
    },
    "kernelspec": {
      "name": "python3",
      "display_name": "Python 3"
    },
    "language_info": {
      "name": "python"
    }
  },
  "cells": [
    {
      "cell_type": "markdown",
      "source": [
        "Q4.Write a Python program using multithreading where one thread adds numbers to a list, and another\n",
        "thread removes numbers from the list. Implement a mechanism to avoid race conditions using\n",
        "threading Lock."
      ],
      "metadata": {
        "id": "dO8Ho167l0qr"
      }
    },
    {
      "cell_type": "code",
      "execution_count": 2,
      "metadata": {
        "colab": {
          "base_uri": "https://localhost:8080/"
        },
        "id": "R2RwEU6SlaEa",
        "outputId": "2333a516-ebe8-4338-aa1a-8234231662b8"
      },
      "outputs": [
        {
          "output_type": "stream",
          "name": "stdout",
          "text": [
            "Added 47 to the list.\n",
            "Added 40 to the list.\n",
            "Removed 47 from the list.\n",
            "Removed 40 from the list.\n",
            "Added 52 to the list.\n",
            "Removed 52 from the list.\n",
            "Added 66 to the list.\n",
            "Removed 66 from the list.\n",
            "Added 19 to the list.\n",
            "Removed 19 from the list.\n",
            "List is empty, cannot remove.\n",
            "Added 9 to the list.\n",
            "Added 42 to the list.\n",
            "Removed 9 from the list.\n",
            "Added 66 to the list.\n",
            "Removed 42 from the list.\n",
            "Added 70 to the list.\n",
            "Added 75 to the list.\n",
            "Removed 66 from the list.\n",
            "Removed 70 from the list.\n",
            "Final state of the list: [75]\n"
          ]
        }
      ],
      "source": [
        "import threading\n",
        "import time\n",
        "import random\n",
        "\n",
        "shared_list = []\n",
        "\n",
        "list_lock = threading.Lock()\n",
        "\n",
        "def add_to_list():\n",
        "    for i in range(10):\n",
        "        with list_lock:\n",
        "            number = random.randint(1, 100)\n",
        "            shared_list.append(number)\n",
        "            print(f\"Added {number} to the list.\")\n",
        "        time.sleep(random.uniform(0.1, 0.5))\n",
        "\n",
        "def remove_from_list():\n",
        "    for i in range(10):\n",
        "        time.sleep(random.uniform(0.1, 0.5))\n",
        "        with list_lock:\n",
        "            if shared_list:\n",
        "                number = shared_list.pop(0)\n",
        "                print(f\"Removed {number} from the list.\")\n",
        "            else:\n",
        "                print(\"List is empty, cannot remove.\")\n",
        "\n",
        "add_thread = threading.Thread(target=add_to_list)\n",
        "remove_thread = threading.Thread(target=remove_from_list)\n",
        "\n",
        "add_thread.start()\n",
        "remove_thread.start()\n",
        "\n",
        "add_thread.join()\n",
        "remove_thread.join()\n",
        "\n",
        "print(\"Final state of the list:\", shared_list)\n"
      ]
    },
    {
      "cell_type": "markdown",
      "source": [
        "Q7. Create a program that uses a thread pool to calculate the factorial of numbers from 1 to 10 concurrently.\n",
        "Use concurrent.futures.ThreadPoolExecutor to manage the threads."
      ],
      "metadata": {
        "id": "d1fNY1YvrLVq"
      }
    },
    {
      "cell_type": "code",
      "source": [
        "import concurrent.futures\n",
        "import math\n",
        "\n",
        "def calculate_factorial(n):\n",
        "    return math.factorial(n)\n",
        "\n",
        "def main():\n",
        "    numbers = range(1, 11)\n",
        "\n",
        "    with concurrent.futures.ThreadPoolExecutor() as executor:\n",
        "        results = list(executor.map(calculate_factorial, numbers))\n",
        "\n",
        "    for number, factorial in zip(numbers, results):\n",
        "        print(f\"Factorial of {number} is {factorial}\")\n",
        "\n",
        "if __name__ == \"__main__\":\n",
        "    main()\n"
      ],
      "metadata": {
        "colab": {
          "base_uri": "https://localhost:8080/"
        },
        "id": "zyJHoxUIrNXs",
        "outputId": "a991838f-0c47-4225-e64a-6f103054bbd9"
      },
      "execution_count": 4,
      "outputs": [
        {
          "output_type": "stream",
          "name": "stdout",
          "text": [
            "Factorial of 1 is 1\n",
            "Factorial of 2 is 2\n",
            "Factorial of 3 is 6\n",
            "Factorial of 4 is 24\n",
            "Factorial of 5 is 120\n",
            "Factorial of 6 is 720\n",
            "Factorial of 7 is 5040\n",
            "Factorial of 8 is 40320\n",
            "Factorial of 9 is 362880\n",
            "Factorial of 10 is 3628800\n"
          ]
        }
      ]
    },
    {
      "cell_type": "markdown",
      "source": [
        "Q8. Create a Python program that uses multiprocessing.Pool to compute the square of numbers from 1 to 10 in\n",
        "parallel. Measure the time taken to perform this computation using a pool of different sizes (e.g., 2, 4, 8\n",
        "processes)"
      ],
      "metadata": {
        "id": "2ltRm6cGr3Qq"
      }
    },
    {
      "cell_type": "code",
      "source": [
        "import multiprocessing\n",
        "import time\n",
        "\n",
        "def compute_square(n):\n",
        "    return n * n\n",
        "\n",
        "def measure_time(pool_size, numbers):\n",
        "    start_time = time.time()\n",
        "    with multiprocessing.Pool(processes=pool_size) as pool:\n",
        "        results = pool.map(compute_square, numbers)\n",
        "    end_time = time.time()\n",
        "\n",
        "\n",
        "    print(f\"Pool Size: {pool_size}, Results: {results}, Time Taken: {end_time - start_time:.4f} seconds\")\n",
        "\n",
        "if __name__ == \"__main__\":\n",
        "    numbers = list(range(1, 11))\n",
        "\n",
        "    for pool_size in [2, 4, 8]:\n",
        "        measure_time(pool_size, numbers)\n"
      ],
      "metadata": {
        "colab": {
          "base_uri": "https://localhost:8080/"
        },
        "id": "JKWAD_mGr7UO",
        "outputId": "da24db8f-e352-4faf-99ab-095dbf33c195"
      },
      "execution_count": 6,
      "outputs": [
        {
          "output_type": "stream",
          "name": "stdout",
          "text": [
            "Pool Size: 2, Results: [1, 4, 9, 16, 25, 36, 49, 64, 81, 100], Time Taken: 0.0462 seconds\n",
            "Pool Size: 4, Results: [1, 4, 9, 16, 25, 36, 49, 64, 81, 100], Time Taken: 0.0760 seconds\n",
            "Pool Size: 8, Results: [1, 4, 9, 16, 25, 36, 49, 64, 81, 100], Time Taken: 0.1411 seconds\n"
          ]
        }
      ]
    }
  ]
}